{
  "nbformat": 4,
  "nbformat_minor": 0,
  "metadata": {
    "colab": {
      "name": "tf2_audio_signal.ipynb",
      "provenance": [],
      "collapsed_sections": [
        "f3Fw9U2M5luK"
      ],
      "toc_visible": true,
      "include_colab_link": true
    },
    "kernelspec": {
      "name": "python3",
      "display_name": "Python 3"
    },
    "accelerator": "GPU"
  },
  "cells": [
    {
      "cell_type": "markdown",
      "metadata": {
        "id": "view-in-github",
        "colab_type": "text"
      },
      "source": [
        "<a href=\"https://colab.research.google.com/github/Mikful/tf2-audio/blob/master/tf2_audio_signal.ipynb\" target=\"_parent\"><img src=\"https://colab.research.google.com/assets/colab-badge.svg\" alt=\"Open In Colab\"/></a>"
      ]
    },
    {
      "cell_type": "markdown",
      "metadata": {
        "id": "as5E5bF7w1OA",
        "colab_type": "text"
      },
      "source": [
        "# [How to run GPU accelerated Signal Processing in TensorFlow](https://www.dlology.com/blog/how-to-run-gpu-accelerated-signal-processing-in-tensorflow/)\n"
      ]
    },
    {
      "cell_type": "code",
      "metadata": {
        "id": "IAkNksmyw1OD",
        "colab_type": "code",
        "outputId": "4b91cfd8-ace5-4408-ad4b-a53675eef7f3",
        "colab": {
          "base_uri": "https://localhost:8080/",
          "height": 34
        }
      },
      "source": [
        "from __future__ import absolute_import, division, print_function, unicode_literals\n",
        "try:\n",
        "  # %tensorflow_version only exists in Colab.\n",
        "  %tensorflow_version 2.x\n",
        "  tf.enable_eager_execution()\n",
        "  %load_ext tensorboard\n",
        "except Exception: \n",
        "  pass\n",
        "\n",
        "import tensorflow as tf\n",
        "\n",
        "print('Using Tensorflow Version: ' + tf.__version__)\n",
        "import numpy as np\n"
      ],
      "execution_count": 3,
      "outputs": [
        {
          "output_type": "stream",
          "text": [
            "Using Tensorflow Version:2.0.0\n"
          ],
          "name": "stdout"
        }
      ]
    },
    {
      "cell_type": "markdown",
      "metadata": {
        "id": "cKvRVYJWw1OO",
        "colab_type": "text"
      },
      "source": [
        "## Check eager execution is enabled"
      ]
    },
    {
      "cell_type": "code",
      "metadata": {
        "id": "4KCOW_OBw1OO",
        "colab_type": "code",
        "outputId": "96054961-d7c9-4a07-8259-c44f02505bf6",
        "colab": {
          "base_uri": "https://localhost:8080/",
          "height": 51
        }
      },
      "source": [
        "print(tf.executing_eagerly())        # => True\n",
        "\n",
        "x = [[2.]]\n",
        "m = tf.matmul(x, x)\n",
        "print(\"hello, {}\".format(m))  # => \"hello, [[4.]]\""
      ],
      "execution_count": 4,
      "outputs": [
        {
          "output_type": "stream",
          "text": [
            "True\n",
            "hello, [[4.]]\n"
          ],
          "name": "stdout"
        }
      ]
    },
    {
      "cell_type": "code",
      "metadata": {
        "id": "gVk5XaaZw1OV",
        "colab_type": "code",
        "colab": {}
      },
      "source": [
        "import matplotlib.pyplot as plt\n",
        "%matplotlib inline"
      ],
      "execution_count": 0,
      "outputs": []
    },
    {
      "cell_type": "code",
      "metadata": {
        "colab_type": "code",
        "id": "0sr3JTmQt--2",
        "colab": {}
      },
      "source": [
        "!pip install -q librosa"
      ],
      "execution_count": 0,
      "outputs": []
    },
    {
      "cell_type": "code",
      "metadata": {
        "id": "5t_jsjhVw1Pu",
        "colab_type": "code",
        "outputId": "82b0e6b9-7ff9-41a7-f509-99afe2cec723",
        "colab": {
          "base_uri": "https://localhost:8080/",
          "height": 870
        }
      },
      "source": [
        "!apt update -qq\n",
        "!apt install -y -qq ffmpeg\n",
        "!apt list --upgradable"
      ],
      "execution_count": 8,
      "outputs": [
        {
          "output_type": "stream",
          "text": [
            "45 packages can be upgraded. Run 'apt list --upgradable' to see them.\n",
            "ffmpeg is already the newest version (7:3.4.6-0ubuntu0.18.04.1).\n",
            "0 upgraded, 0 newly installed, 0 to remove and 45 not upgraded.\n",
            "Listing... Done\n",
            "\u001b[32mbase-files\u001b[0m/bionic-updates 10.1ubuntu2.7 amd64 [upgradable from: 10.1ubuntu2.6]\n",
            "\u001b[32mbsdutils\u001b[0m/bionic-updates 1:2.31.1-0.4ubuntu3.4 amd64 [upgradable from: 1:2.31.1-0.4ubuntu3.3]\n",
            "\u001b[32mcuda-compat-10-1\u001b[0m/unknown 418.87.01-1 amd64 [upgradable from: 418.87.00-1]\n",
            "\u001b[32mcuda-drivers\u001b[0m/unknown 440.33.01-1 amd64 [upgradable from: 418.87.01-1]\n",
            "\u001b[32mdpkg\u001b[0m/bionic-updates 1.19.0.5ubuntu2.3 amd64 [upgradable from: 1.19.0.5ubuntu2.1]\n",
            "\u001b[32mdpkg-dev\u001b[0m/bionic-updates 1.19.0.5ubuntu2.3 all [upgradable from: 1.19.0.5ubuntu2.2]\n",
            "\u001b[32me2fsprogs\u001b[0m/bionic-updates,bionic-security 1.44.1-1ubuntu1.2 amd64 [upgradable from: 1.44.1-1ubuntu1.1]\n",
            "\u001b[32mfdisk\u001b[0m/bionic-updates 2.31.1-0.4ubuntu3.4 amd64 [upgradable from: 2.31.1-0.4ubuntu3.3]\n",
            "\u001b[32mgrep\u001b[0m/bionic-updates 3.1-2build1 amd64 [upgradable from: 3.1-2]\n",
            "\u001b[32mlibblkid1\u001b[0m/bionic-updates 2.31.1-0.4ubuntu3.4 amd64 [upgradable from: 2.31.1-0.4ubuntu3.3]\n",
            "\u001b[32mlibcom-err2\u001b[0m/bionic-updates,bionic-security 1.44.1-1ubuntu1.2 amd64 [upgradable from: 1.44.1-1ubuntu1.1]\n",
            "\u001b[32mlibcublas-dev\u001b[0m/unknown 10.2.2.89-1 amd64 [upgradable from: 10.2.1.243-1]\n",
            "\u001b[32mlibcublas10\u001b[0m/unknown 10.2.2.89-1 amd64 [upgradable from: 10.2.1.243-1]\n",
            "\u001b[32mlibcudnn7\u001b[0m/unknown 7.6.5.32-1+cuda10.2 amd64 [upgradable from: 7.6.3.30-1+cuda10.1]\n",
            "\u001b[32mlibcudnn7-dev\u001b[0m/unknown 7.6.5.32-1+cuda10.2 amd64 [upgradable from: 7.6.3.30-1+cuda10.1]\n",
            "\u001b[32mlibdpkg-perl\u001b[0m/bionic-updates 1.19.0.5ubuntu2.3 all [upgradable from: 1.19.0.5ubuntu2.2]\n",
            "\u001b[32mlibext2fs2\u001b[0m/bionic-updates,bionic-security 1.44.1-1ubuntu1.2 amd64 [upgradable from: 1.44.1-1ubuntu1.1]\n",
            "\u001b[32mlibfdisk1\u001b[0m/bionic-updates 2.31.1-0.4ubuntu3.4 amd64 [upgradable from: 2.31.1-0.4ubuntu3.3]\n",
            "\u001b[32mlibidn2-0\u001b[0m/bionic-updates,bionic-security 2.0.4-1.1ubuntu0.2 amd64 [upgradable from: 2.0.4-1.1build2]\n",
            "\u001b[32mlibldap-2.4-2\u001b[0m/bionic-updates 2.4.45+dfsg-1ubuntu1.4 amd64 [upgradable from: 2.4.45+dfsg-1ubuntu1.3]\n",
            "\u001b[32mlibldap-common\u001b[0m/bionic-updates 2.4.45+dfsg-1ubuntu1.4 all [upgradable from: 2.4.45+dfsg-1ubuntu1.3]\n",
            "\u001b[32mlibmount1\u001b[0m/bionic-updates 2.31.1-0.4ubuntu3.4 amd64 [upgradable from: 2.31.1-0.4ubuntu3.3]\n",
            "\u001b[32mlibmysqlclient20\u001b[0m/bionic-updates,bionic-security 5.7.28-0ubuntu0.18.04.4 amd64 [upgradable from: 5.7.27-0ubuntu0.18.04.1]\n",
            "\u001b[32mlibnccl-dev\u001b[0m/unknown 2.5.6-1+cuda10.2 amd64 [upgradable from: 2.4.8-1+cuda10.1]\n",
            "\u001b[32mlibnccl2\u001b[0m/unknown 2.5.6-1+cuda10.2 amd64 [upgradable from: 2.4.8-1+cuda10.1]\n",
            "\u001b[32mlibprocps6\u001b[0m/bionic-updates 2:3.3.12-3ubuntu1.2 amd64 [upgradable from: 2:3.3.12-3ubuntu1.1]\n",
            "\u001b[32mlibsmartcols1\u001b[0m/bionic-updates 2.31.1-0.4ubuntu3.4 amd64 [upgradable from: 2.31.1-0.4ubuntu3.3]\n",
            "\u001b[32mlibss2\u001b[0m/bionic-updates,bionic-security 1.44.1-1ubuntu1.2 amd64 [upgradable from: 1.44.1-1ubuntu1.1]\n",
            "\u001b[32mlibssl-dev\u001b[0m/bionic-updates,bionic-security 1.1.1-1ubuntu2.1~18.04.5 amd64 [upgradable from: 1.1.1-1ubuntu2.1~18.04.4]\n",
            "\u001b[32mlibssl1.1\u001b[0m/bionic-updates,bionic-security 1.1.1-1ubuntu2.1~18.04.5 amd64 [upgradable from: 1.1.1-1ubuntu2.1~18.04.4]\n",
            "\u001b[32mlibxnvctrl0\u001b[0m/unknown 440.33.01-0ubuntu1 amd64 [upgradable from: 418.87.01-0ubuntu1]\n",
            "\u001b[32mlibzstd1\u001b[0m/bionic-updates,bionic-security 1.3.3+dfsg-2ubuntu1.1 amd64 [upgradable from: 1.3.3+dfsg-2ubuntu1]\n",
            "\u001b[32mlinux-libc-dev\u001b[0m/bionic-updates,bionic-security 4.15.0-70.79 amd64 [upgradable from: 4.15.0-58.64]\n",
            "\u001b[32mmount\u001b[0m/bionic-updates 2.31.1-0.4ubuntu3.4 amd64 [upgradable from: 2.31.1-0.4ubuntu3.3]\n",
            "\u001b[32mnvidia-modprobe\u001b[0m/unknown 440.33.01-0ubuntu1 amd64 [upgradable from: 418.87.01-0ubuntu1]\n",
            "\u001b[32mnvidia-settings\u001b[0m/unknown 440.33.01-0ubuntu1 amd64 [upgradable from: 418.87.01-0ubuntu1]\n",
            "\u001b[32mopenssl\u001b[0m/bionic-updates,bionic-security 1.1.1-1ubuntu2.1~18.04.5 amd64 [upgradable from: 1.1.1-1ubuntu2.1~18.04.4]\n",
            "\u001b[32mprocps\u001b[0m/bionic-updates 2:3.3.12-3ubuntu1.2 amd64 [upgradable from: 2:3.3.12-3ubuntu1.1]\n",
            "\u001b[32mr-cran-dt\u001b[0m/bionic 0.10-1cran1ppabionic0 all [upgradable from: 0.9-1cran1ppabionic0]\n",
            "\u001b[32mr-cran-knitr\u001b[0m/bionic 1.26-1cran1ppabionic0 all [upgradable from: 1.25-1cran1ppabionic0]\n",
            "\u001b[32mr-cran-r6\u001b[0m/bionic 2.4.1-1cran1ppabionic0 all [upgradable from: 2.4.0-1cran1ppabionic0]\n",
            "\u001b[32mr-cran-rmarkdown\u001b[0m/bionic 1.17-1cran1ppabionic0 all [upgradable from: 1.16-1cran1ppabionic0]\n",
            "\u001b[32mr-cran-roxygen2\u001b[0m/bionic 7.0.0-1cran1ppabionic0 amd64 [upgradable from: 6.1.1-1cran1ppabionic0]\n",
            "\u001b[32mr-cran-xfun\u001b[0m/bionic 0.11-1cran1ppabionic0 all [upgradable from: 0.10-1cran1ppabionic0]\n",
            "\u001b[32mutil-linux\u001b[0m/bionic-updates 2.31.1-0.4ubuntu3.4 amd64 [upgradable from: 2.31.1-0.4ubuntu3.3]\n"
          ],
          "name": "stdout"
        }
      ]
    },
    {
      "cell_type": "code",
      "metadata": {
        "id": "ARdees2Yz0Zu",
        "colab_type": "code",
        "outputId": "57bd2963-0c1d-4ce5-bef9-6f70be6ac871",
        "colab": {
          "base_uri": "https://localhost:8080/",
          "height": 241
        }
      },
      "source": [
        "!ffmpeg -version"
      ],
      "execution_count": 9,
      "outputs": [
        {
          "output_type": "stream",
          "text": [
            "ffmpeg version 3.4.6-0ubuntu0.18.04.1 Copyright (c) 2000-2019 the FFmpeg developers\n",
            "built with gcc 7 (Ubuntu 7.3.0-16ubuntu3)\n",
            "configuration: --prefix=/usr --extra-version=0ubuntu0.18.04.1 --toolchain=hardened --libdir=/usr/lib/x86_64-linux-gnu --incdir=/usr/include/x86_64-linux-gnu --enable-gpl --disable-stripping --enable-avresample --enable-avisynth --enable-gnutls --enable-ladspa --enable-libass --enable-libbluray --enable-libbs2b --enable-libcaca --enable-libcdio --enable-libflite --enable-libfontconfig --enable-libfreetype --enable-libfribidi --enable-libgme --enable-libgsm --enable-libmp3lame --enable-libmysofa --enable-libopenjpeg --enable-libopenmpt --enable-libopus --enable-libpulse --enable-librubberband --enable-librsvg --enable-libshine --enable-libsnappy --enable-libsoxr --enable-libspeex --enable-libssh --enable-libtheora --enable-libtwolame --enable-libvorbis --enable-libvpx --enable-libwavpack --enable-libwebp --enable-libx265 --enable-libxml2 --enable-libxvid --enable-libzmq --enable-libzvbi --enable-omx --enable-openal --enable-opengl --enable-sdl2 --enable-libdc1394 --enable-libdrm --enable-libiec61883 --enable-chromaprint --enable-frei0r --enable-libopencv --enable-libx264 --enable-shared\n",
            "libavutil      55. 78.100 / 55. 78.100\n",
            "libavcodec     57.107.100 / 57.107.100\n",
            "libavformat    57. 83.100 / 57. 83.100\n",
            "libavdevice    57. 10.100 / 57. 10.100\n",
            "libavfilter     6.107.100 /  6.107.100\n",
            "libavresample   3.  7.  0 /  3.  7.  0\n",
            "libswscale      4.  8.100 /  4.  8.100\n",
            "libswresample   2.  9.100 /  2.  9.100\n",
            "libpostproc    54.  7.100 / 54.  7.100\n"
          ],
          "name": "stdout"
        }
      ]
    },
    {
      "cell_type": "code",
      "metadata": {
        "id": "l_GTcVwzyIbB",
        "colab_type": "code",
        "colab": {}
      },
      "source": [
        "!wget -q https://github.com/Tony607/blog_statics/releases/download/v1.0/siren_mfcc_demo.wav"
      ],
      "execution_count": 0,
      "outputs": []
    },
    {
      "cell_type": "markdown",
      "metadata": {
        "id": "czVhVJMxW3UX",
        "colab_type": "text"
      },
      "source": [
        "### Decode wav file"
      ]
    },
    {
      "cell_type": "code",
      "metadata": {
        "id": "rnhREUjpy0S8",
        "colab_type": "code",
        "outputId": "b795c56a-6cfa-4c0a-87c4-a87d27c06d26",
        "colab": {
          "base_uri": "https://localhost:8080/",
          "height": 34
        }
      },
      "source": [
        "## Check the sampling rate of the WAV file.\n",
        "audio_file = './siren_mfcc_demo.wav'\n",
        "\n",
        "\n",
        "import wave\n",
        "with wave.open(audio_file, \"rb\") as wave_file:\n",
        "    sr = wave_file.getframerate()\n",
        "print(sr)"
      ],
      "execution_count": 11,
      "outputs": [
        {
          "output_type": "stream",
          "text": [
            "44100\n"
          ],
          "name": "stdout"
        }
      ]
    },
    {
      "cell_type": "code",
      "metadata": {
        "id": "k4J9A9gPw1Pw",
        "colab_type": "code",
        "outputId": "634a83ae-7a33-4d3c-9335-47ff3a1e6a83",
        "colab": {
          "base_uri": "https://localhost:8080/",
          "height": 34
        }
      },
      "source": [
        "audio_binary = tf.io.read_file(audio_file, name=None)\n",
        "\n",
        "waveform = tf.audio.decode_wav(\n",
        "    audio_binary,\n",
        "    desired_channels=-1,\n",
        "    desired_samples=-1,\n",
        "\n",
        "print(waveform.audio.shape)"
      ],
      "execution_count": 27,
      "outputs": [
        {
          "output_type": "stream",
          "text": [
            "(59904, 1)\n"
          ],
          "name": "stdout"
        }
      ]
    },
    {
      "cell_type": "code",
      "metadata": {
        "id": "Fb_08a5W2Ko4",
        "colab_type": "code",
        "outputId": "f278a599-68e4-439f-e86a-5235d7f543d4",
        "colab": {
          "base_uri": "https://localhost:8080/",
          "height": 34
        }
      },
      "source": [
        "signals = tf.reshape(waveform.audio, [1, -1])\n",
        "signals.get_shape()"
      ],
      "execution_count": 28,
      "outputs": [
        {
          "output_type": "execute_result",
          "data": {
            "text/plain": [
              "TensorShape([1, 59904])"
            ]
          },
          "metadata": {
            "tags": []
          },
          "execution_count": 28
        }
      ]
    },
    {
      "cell_type": "markdown",
      "metadata": {
        "id": "f3Fw9U2M5luK",
        "colab_type": "text"
      },
      "source": [
        "### Alternative methods to decode audio:"
      ]
    },
    {
      "cell_type": "code",
      "metadata": {
        "id": "8n4vLqCj3PGO",
        "colab_type": "code",
        "colab": {}
      },
      "source": [
        "# An alternative way to decode audio file.\n",
        "# from scipy.io import wavfile\n",
        "# sr, samples = wavfile.read(audio_file)\n",
        "# samples = samples.reshape((1, -1))\n",
        "# print(sr)\n",
        "# print(samples.shape)"
      ],
      "execution_count": 0,
      "outputs": []
    },
    {
      "cell_type": "code",
      "metadata": {
        "id": "L7DMB0NQYeBZ",
        "colab_type": "code",
        "colab": {
          "base_uri": "https://localhost:8080/",
          "height": 68
        },
        "outputId": "9af5fa12-e3de-4774-a636-b05b632f4ea4"
      },
      "source": [
        "# Another alternative way to decode audio file.\n",
        "\n",
        "#import librosa\n",
        "#sound_clip,sr = librosa.load(audio_file)\n",
        "#print(\"sampling rate:\", sr)\n",
        "\n",
        "#print(sound_clip.shape)\n",
        "#signals = sound_clip.reshape((1, -1))\n",
        "#print(\"signal shape: \", signals.shape)"
      ],
      "execution_count": 22,
      "outputs": [
        {
          "output_type": "stream",
          "text": [
            "sampling rate: 22050\n",
            "(29952,)\n",
            "signal shape:  (1, 29952)\n"
          ],
          "name": "stdout"
        }
      ]
    },
    {
      "cell_type": "markdown",
      "metadata": {
        "id": "y0p2E-CWw1OX",
        "colab_type": "text"
      },
      "source": [
        "## Framing variable length sequences"
      ]
    },
    {
      "cell_type": "code",
      "metadata": {
        "id": "gQBEu3j3w1OZ",
        "colab_type": "code",
        "outputId": "b81048cf-e162-46ce-b9d2-592ff4c80b9f",
        "colab": {
          "base_uri": "https://localhost:8080/",
          "height": 279
        }
      },
      "source": [
        "import librosa.display\n",
        "\n",
        "librosa.display.waveplot(signals.numpy().flatten(),sr=sr)\n",
        "plt.show()"
      ],
      "execution_count": 29,
      "outputs": [
        {
          "output_type": "display_data",
          "data": {
            "image/png": "[encoded data removed]",
            "text/plain": [
              "<Figure size 432x288 with 1 Axes>"
            ]
          },
          "metadata": {
            "tags": []
          }
        }
      ]
    },
    {
      "cell_type": "code",
      "metadata": {
        "id": "1JOPX5j87fY6",
        "colab_type": "code",
        "outputId": "26d64429-d095-46f4-b59c-235dcd1b10d0",
        "colab": {
          "base_uri": "https://localhost:8080/",
          "height": 201
        }
      },
      "source": [
        "import matplotlib.pyplot as plt\n",
        "plt.plot(waveform.audio.flatten()[1024*2:1024*5])"
      ],
      "execution_count": 31,
      "outputs": [
        {
          "output_type": "error",
          "ename": "AttributeError",
          "evalue": "ignored",
          "traceback": [
            "\u001b[0;31m---------------------------------------------------------------------------\u001b[0m",
            "\u001b[0;31mAttributeError\u001b[0m                            Traceback (most recent call last)",
            "\u001b[0;32m<ipython-input-31-0003f3c66e0d>\u001b[0m in \u001b[0;36m<module>\u001b[0;34m()\u001b[0m\n\u001b[1;32m      1\u001b[0m \u001b[0;32mimport\u001b[0m \u001b[0mmatplotlib\u001b[0m\u001b[0;34m.\u001b[0m\u001b[0mpyplot\u001b[0m \u001b[0;32mas\u001b[0m \u001b[0mplt\u001b[0m\u001b[0;34m\u001b[0m\u001b[0;34m\u001b[0m\u001b[0m\n\u001b[0;32m----> 2\u001b[0;31m \u001b[0mplt\u001b[0m\u001b[0;34m.\u001b[0m\u001b[0mplot\u001b[0m\u001b[0;34m(\u001b[0m\u001b[0mwaveform\u001b[0m\u001b[0;34m.\u001b[0m\u001b[0maudio\u001b[0m\u001b[0;34m.\u001b[0m\u001b[0mflatten\u001b[0m\u001b[0;34m(\u001b[0m\u001b[0;34m)\u001b[0m\u001b[0;34m[\u001b[0m\u001b[0;36m1024\u001b[0m\u001b[0;34m*\u001b[0m\u001b[0;36m2\u001b[0m\u001b[0;34m:\u001b[0m\u001b[0;36m1024\u001b[0m\u001b[0;34m*\u001b[0m\u001b[0;36m5\u001b[0m\u001b[0;34m]\u001b[0m\u001b[0;34m)\u001b[0m\u001b[0;34m\u001b[0m\u001b[0;34m\u001b[0m\u001b[0m\n\u001b[0m",
            "\u001b[0;31mAttributeError\u001b[0m: 'tensorflow.python.framework.ops.EagerTensor' object has no attribute 'flatten'"
          ]
        }
      ]
    },
    {
      "cell_type": "code",
      "metadata": {
        "id": "QTa1BVSOw1Oe",
        "colab_type": "code",
        "outputId": "f232ff9a-b79d-4b5f-d555-663f64ea4a08",
        "colab": {
          "base_uri": "https://localhost:8080/",
          "height": 34
        }
      },
      "source": [
        "# Compute a [batch_size, ?, 128] tensor of fixed length, overlapping windows\n",
        "# where each window overlaps the previous by 75% (frame_length - frame_step\n",
        "# samples of overlap).\n",
        "\n",
        "frames = tf.signal.frame(signals, frame_length=128, frame_step=32)\n",
        "print(frames.numpy().shape)"
      ],
      "execution_count": 32,
      "outputs": [
        {
          "output_type": "stream",
          "text": [
            "(1, 1869, 128)\n"
          ],
          "name": "stdout"
        }
      ]
    },
    {
      "cell_type": "code",
      "metadata": {
        "id": "6kGPgV8Yw1Oi",
        "colab_type": "code",
        "outputId": "d429c121-58ff-46d2-f0e3-6afc29364f1c",
        "colab": {
          "base_uri": "https://localhost:8080/",
          "height": 34
        }
      },
      "source": [
        "# `magnitude_spectrograms` is a [batch_size, ?, 129] tensor of spectrograms. We\n",
        "# would like to produce overlapping fixed-size spectrogram patches; for example,\n",
        "# for use in a situation where a fixed size input is needed.\n",
        "\n",
        "magnitude_spectrograms = tf.abs(tf.signal.stft(\n",
        "    signals, frame_length=256, frame_step=64, fft_length=256))\n",
        "\n",
        "print(magnitude_spectrograms.numpy().shape)"
      ],
      "execution_count": 33,
      "outputs": [
        {
          "output_type": "stream",
          "text": [
            "(1, 933, 129)\n"
          ],
          "name": "stdout"
        }
      ]
    },
    {
      "cell_type": "code",
      "metadata": {
        "id": "U7vhbU4mw1Om",
        "colab_type": "code",
        "outputId": "98de2536-f086-4ae2-8ac8-5c201b167ffe",
        "colab": {
          "base_uri": "https://localhost:8080/",
          "height": 34
        }
      },
      "source": [
        "# `spectrogram_patches` is a [batch_size, ?, 64, 129] tensor containing a\n",
        "# variable number of [64, 129] spectrogram patches per batch item.\n",
        "\n",
        "spectrogram_patches = tf.signal.frame(\n",
        "    magnitude_spectrograms, frame_length=64, frame_step=16, axis=1)\n",
        "\n",
        "print(spectrogram_patches.numpy().shape)"
      ],
      "execution_count": 34,
      "outputs": [
        {
          "output_type": "stream",
          "text": [
            "(1, 55, 64, 129)\n"
          ],
          "name": "stdout"
        }
      ]
    },
    {
      "cell_type": "markdown",
      "metadata": {
        "id": "athZLApgw1Oq",
        "colab_type": "text"
      },
      "source": [
        "## Reconstructing framed sequences and applying a tapering window"
      ]
    },
    {
      "cell_type": "code",
      "metadata": {
        "id": "UKnTsAu6w1Os",
        "colab_type": "code",
        "outputId": "f8fb8ab4-3417-45be-b896-72b5abc2638e",
        "colab": {
          "base_uri": "https://localhost:8080/",
          "height": 34
        }
      },
      "source": [
        "# Reconstructs `signals` from `frames` produced in the above example. However,\n",
        "# the magnitude of `reconstructed_signals` will be greater than `signals`.\n",
        "reconstructed_signals = tf.signal.overlap_and_add(frames, frame_step=32)\n",
        "print(reconstructed_signals.numpy().shape)"
      ],
      "execution_count": 35,
      "outputs": [
        {
          "output_type": "stream",
          "text": [
            "(1, 59904)\n"
          ],
          "name": "stdout"
        }
      ]
    },
    {
      "cell_type": "code",
      "metadata": {
        "id": "sbFVZcGow1Ow",
        "colab_type": "code",
        "outputId": "c7c9867c-2522-4ba2-bfc1-53129e1f04cd",
        "colab": {
          "base_uri": "https://localhost:8080/",
          "height": 34
        }
      },
      "source": [
        "frame_length = 128\n",
        "frame_step = 32\n",
        "windowed_frames = frames * tf.signal.hann_window(frame_length)\n",
        "print(windowed_frames.get_shape())"
      ],
      "execution_count": 36,
      "outputs": [
        {
          "output_type": "stream",
          "text": [
            "(1, 1869, 128)\n"
          ],
          "name": "stdout"
        }
      ]
    },
    {
      "cell_type": "code",
      "metadata": {
        "id": "id6hgFskw1O1",
        "colab_type": "code",
        "outputId": "6fa04721-4e93-47e5-a118-8ab965eeb49a",
        "colab": {
          "base_uri": "https://localhost:8080/",
          "height": 34
        }
      },
      "source": [
        "reconstructed_signals = tf.signal.overlap_and_add(\n",
        "    windowed_frames, frame_step)\n",
        "reconstructed_signals.numpy().shape"
      ],
      "execution_count": 37,
      "outputs": [
        {
          "output_type": "execute_result",
          "data": {
            "text/plain": [
              "(1, 59904)"
            ]
          },
          "metadata": {
            "tags": []
          },
          "execution_count": 37
        }
      ]
    },
    {
      "cell_type": "markdown",
      "metadata": {
        "id": "U--ioF4sw1O6",
        "colab_type": "text"
      },
      "source": [
        "## Computing spectrograms\n",
        " [Short-time Fourier Transform](https://en.wikipedia.org/wiki/Short-time_Fourier_transform) (STFT)"
      ]
    },
    {
      "cell_type": "code",
      "metadata": {
        "id": "lA8gSwcyw1O6",
        "colab_type": "code",
        "outputId": "6c4e948f-a161-4313-b874-96dc64842421",
        "colab": {
          "base_uri": "https://localhost:8080/",
          "height": 34
        }
      },
      "source": [
        "# `stfts` is a complex64 Tensor representing the Short-time Fourier Transform of\n",
        "# each signal in `signals`. Its shape is [batch_size, ?, fft_unique_bins]\n",
        "# where fft_unique_bins = fft_length // 2 + 1 = 513.\n",
        "stfts = tf.signal.stft(signals, frame_length=1024, frame_step=512, fft_length=1024)\n",
        "\n",
        "print(stfts.numpy().shape)\n",
        "\n",
        "# array = stfts.numpy().astype(np.float)[0]\n",
        "# plt.imshow(np.swapaxes(array,0,1))"
      ],
      "execution_count": 38,
      "outputs": [
        {
          "output_type": "stream",
          "text": [
            "(1, 116, 513)\n"
          ],
          "name": "stdout"
        }
      ]
    },
    {
      "cell_type": "code",
      "metadata": {
        "id": "gPZFUDdYPzsj",
        "colab_type": "code",
        "outputId": "bd1b5879-9ea7-45b3-feb5-0d2418851ebe",
        "colab": {
          "base_uri": "https://localhost:8080/",
          "height": 34
        }
      },
      "source": [
        "# a complex number \n",
        "stfts.numpy()[0][0][0]"
      ],
      "execution_count": 39,
      "outputs": [
        {
          "output_type": "execute_result",
          "data": {
            "text/plain": [
              "(3.6408608+0j)"
            ]
          },
          "metadata": {
            "tags": []
          },
          "execution_count": 39
        }
      ]
    },
    {
      "cell_type": "markdown",
      "metadata": {
        "id": "r-bVQcY0w1O-",
        "colab_type": "text"
      },
      "source": [
        "### power_spectrograms"
      ]
    },
    {
      "cell_type": "code",
      "metadata": {
        "id": "T7pDG6CHw1O_",
        "colab_type": "code",
        "outputId": "f003849d-81a5-4e96-a9e6-2d69d4d40390",
        "colab": {
          "base_uri": "https://localhost:8080/",
          "height": 303
        }
      },
      "source": [
        "# A power spectrogram is the squared magnitude of the complex-valued STFT.\n",
        "# A float32 Tensor of shape [batch_size, ?, 513].\n",
        "power_spectrograms = tf.math.real(stfts * tf.math.conj(stfts))\n",
        "\n",
        "print(power_spectrograms.numpy().shape)\n",
        "\n",
        "array = power_spectrograms.numpy().astype(np.float)[0]\n",
        "plt.imshow(np.swapaxes(array,0,1))"
      ],
      "execution_count": 42,
      "outputs": [
        {
          "output_type": "stream",
          "text": [
            "(1, 116, 513)\n"
          ],
          "name": "stdout"
        },
        {
          "output_type": "execute_result",
          "data": {
            "text/plain": [
              "<matplotlib.image.AxesImage at 0x7fddfa256f98>"
            ]
          },
          "metadata": {
            "tags": []
          },
          "execution_count": 42
        },
        {
          "output_type": "display_data",
          "data": {
            "image/png": "[encoded data removed]",
            "text/plain": [
              "<Figure size 432x288 with 1 Axes>"
            ]
          },
          "metadata": {
            "tags": []
          }
        }
      ]
    },
    {
      "cell_type": "markdown",
      "metadata": {
        "id": "PN5P0PWnw1PE",
        "colab_type": "text"
      },
      "source": [
        "### magnitude_spectrograms"
      ]
    },
    {
      "cell_type": "code",
      "metadata": {
        "id": "R82oYnNpw1PF",
        "colab_type": "code",
        "outputId": "c01a658a-fd33-41a0-9e74-691e5fa2d9a8",
        "colab": {
          "base_uri": "https://localhost:8080/",
          "height": 303
        }
      },
      "source": [
        "# An energy spectrogram is the magnitude of the complex-valued STFT.\n",
        "# A float32 Tensor of shape [batch_size, ?, 513].\n",
        "magnitude_spectrograms = tf.math.abs(stfts)\n",
        "\n",
        "print(magnitude_spectrograms.numpy().shape)\n",
        "\n",
        "array = magnitude_spectrograms.numpy().astype(np.float)[0]\n",
        "plt.imshow(np.swapaxes(array,0,1))"
      ],
      "execution_count": 43,
      "outputs": [
        {
          "output_type": "stream",
          "text": [
            "(1, 116, 513)\n"
          ],
          "name": "stdout"
        },
        {
          "output_type": "execute_result",
          "data": {
            "text/plain": [
              "<matplotlib.image.AxesImage at 0x7fddfa24b5c0>"
            ]
          },
          "metadata": {
            "tags": []
          },
          "execution_count": 43
        },
        {
          "output_type": "display_data",
          "data": {
            "image/png": "[encoded data removed]",
            "text/plain": [
              "<Figure size 432x288 with 1 Axes>"
            ]
          },
          "metadata": {
            "tags": []
          }
        }
      ]
    },
    {
      "cell_type": "markdown",
      "metadata": {
        "id": "Tm_12Kbbw1PJ",
        "colab_type": "text"
      },
      "source": [
        "## Logarithmic compression"
      ]
    },
    {
      "cell_type": "code",
      "metadata": {
        "id": "4nCbVZWyw1PK",
        "colab_type": "code",
        "outputId": "f4e3ae8d-964b-4cd8-ec5a-ab7af3e5155e",
        "colab": {
          "base_uri": "https://localhost:8080/",
          "height": 303
        }
      },
      "source": [
        "log_offset = 1e-6\n",
        "log_magnitude_spectrograms = tf.math.log(magnitude_spectrograms + log_offset)\n",
        "print(log_magnitude_spectrograms.numpy().shape)\n",
        "\n",
        "array = log_magnitude_spectrograms.numpy().astype(np.float)[0]\n",
        "plt.imshow(np.swapaxes(array,0,1))"
      ],
      "execution_count": 44,
      "outputs": [
        {
          "output_type": "stream",
          "text": [
            "(1, 116, 513)\n"
          ],
          "name": "stdout"
        },
        {
          "output_type": "execute_result",
          "data": {
            "text/plain": [
              "<matplotlib.image.AxesImage at 0x7fddfa273908>"
            ]
          },
          "metadata": {
            "tags": []
          },
          "execution_count": 44
        },
        {
          "output_type": "display_data",
          "data": {
            "image/png": "[encoded data removed]",
            "text/plain": [
              "<Figure size 432x288 with 1 Axes>"
            ]
          },
          "metadata": {
            "tags": []
          }
        }
      ]
    },
    {
      "cell_type": "markdown",
      "metadata": {
        "id": "sdcfmwEnw1PO",
        "colab_type": "text"
      },
      "source": [
        "## Computing log-mel spectrograms\n",
        "When working with spectral representations of audio, the [mel scale](https://en.wikipedia.org/wiki/Mel_scale) is a common reweighting of the frequency dimension, which results in a lower-dimensional and more perceptually-relevant representation of the audio."
      ]
    },
    {
      "cell_type": "code",
      "metadata": {
        "id": "fu_HZ2HGw1PO",
        "colab_type": "code",
        "outputId": "ba7b7dd4-5db7-42cb-a1c4-ab77e1fb4ecb",
        "colab": {
          "base_uri": "https://localhost:8080/",
          "height": 286
        }
      },
      "source": [
        "# Warp the linear-scale, magnitude spectrograms into the mel-scale.\n",
        "\n",
        "num_spectrogram_bins = magnitude_spectrograms.shape[-1]\n",
        "print('Number spectrogram bins: ' + str(num_spectrogram_bins))\n",
        "\n",
        "lower_edge_hertz, upper_edge_hertz, num_mel_bins = 80.0, 8000, 64\n",
        "\n",
        "linear_to_mel_weight_matrix = tf.signal.linear_to_mel_weight_matrix(\n",
        "    num_mel_bins, num_spectrogram_bins, sr, lower_edge_hertz,\n",
        "    upper_edge_hertz)\n",
        "\n",
        "mel_spectrograms = tf.tensordot(\n",
        "    magnitude_spectrograms, linear_to_mel_weight_matrix, 1)\n",
        "\n",
        "print(mel_spectrograms.numpy().shape)\n",
        "\n",
        "array = mel_spectrograms.numpy().astype(np.float)[0]\n",
        "plt.imshow(np.swapaxes(array,0,1))"
      ],
      "execution_count": 51,
      "outputs": [
        {
          "output_type": "stream",
          "text": [
            "Number Spectrogram bins: 513\n",
            "(1, 116, 64)\n"
          ],
          "name": "stdout"
        },
        {
          "output_type": "execute_result",
          "data": {
            "text/plain": [
              "<matplotlib.image.AxesImage at 0x7fddf9d3ba20>"
            ]
          },
          "metadata": {
            "tags": []
          },
          "execution_count": 51
        },
        {
          "output_type": "display_data",
          "data": {
            "image/png": "[encoded data removed]",
            "text/plain": [
              "<Figure size 432x288 with 1 Axes>"
            ]
          },
          "metadata": {
            "tags": []
          }
        }
      ]
    },
    {
      "cell_type": "code",
      "metadata": {
        "id": "qpMpdAs-w1PU",
        "colab_type": "code",
        "outputId": "31ee0165-5bc1-42b5-c598-25aa41dd163c",
        "colab": {
          "base_uri": "https://localhost:8080/",
          "height": 34
        }
      },
      "source": [
        "mel_spectrograms.set_shape(magnitude_spectrograms.shape[:-1].concatenate(\n",
        "  linear_to_mel_weight_matrix.shape[-1:]))\n",
        "mel_spectrograms.numpy().shape"
      ],
      "execution_count": 52,
      "outputs": [
        {
          "output_type": "execute_result",
          "data": {
            "text/plain": [
              "(1, 116, 64)"
            ]
          },
          "metadata": {
            "tags": []
          },
          "execution_count": 52
        }
      ]
    },
    {
      "cell_type": "markdown",
      "metadata": {
        "id": "Zm9ITbk2w1PW",
        "colab_type": "text"
      },
      "source": [
        "If desired, compress the mel spectrogram magnitudes. For example, you may use logarithmic compression (as discussed in the previous section)."
      ]
    },
    {
      "cell_type": "code",
      "metadata": {
        "id": "75tqgqQ2w1PX",
        "colab_type": "code",
        "outputId": "b72dec00-0146-4f89-9e85-bf86567dfc75",
        "colab": {
          "base_uri": "https://localhost:8080/",
          "height": 269
        }
      },
      "source": [
        "log_offset = 1e-6\n",
        "log_mel_spectrograms = tf.math.log(mel_spectrograms + log_offset)\n",
        "\n",
        "print(log_mel_spectrograms.numpy().shape)\n",
        "array = log_mel_spectrograms.numpy()[0]\n",
        "plt.imshow(np.swapaxes(array,0,1))"
      ],
      "execution_count": 54,
      "outputs": [
        {
          "output_type": "stream",
          "text": [
            "(1, 116, 64)\n"
          ],
          "name": "stdout"
        },
        {
          "output_type": "execute_result",
          "data": {
            "text/plain": [
              "<matplotlib.image.AxesImage at 0x7fddf9cd63c8>"
            ]
          },
          "metadata": {
            "tags": []
          },
          "execution_count": 54
        },
        {
          "output_type": "display_data",
          "data": {
            "image/png": "[encoded data removed]",
            "text/plain": [
              "<Figure size 432x288 with 1 Axes>"
            ]
          },
          "metadata": {
            "tags": []
          }
        }
      ]
    },
    {
      "cell_type": "markdown",
      "metadata": {
        "id": "Es_UbZQtw1Pb",
        "colab_type": "text"
      },
      "source": [
        "## Computing Mel-Frequency Cepstral Coefficients (MFCCs)"
      ]
    },
    {
      "cell_type": "code",
      "metadata": {
        "id": "Bb4qYyNnw1Pc",
        "colab_type": "code",
        "outputId": "f1e6a264-f43b-4818-a40f-c2aad6f01401",
        "colab": {
          "base_uri": "https://localhost:8080/",
          "height": 171
        }
      },
      "source": [
        "num_mfccs = 30\n",
        "# Keep the first `num_mfccs` MFCCs.\n",
        "mfccs = tf.signal.mfccs_from_log_mel_spectrograms(\n",
        "    log_mel_spectrograms)[..., :num_mfccs]\n",
        "print(mfccs.numpy().shape)\n",
        "array = mfccs.numpy()[0]\n",
        "plt.imshow(np.swapaxes(array,0,1)[::-1,:])"
      ],
      "execution_count": 55,
      "outputs": [
        {
          "output_type": "stream",
          "text": [
            "(1, 116, 30)\n"
          ],
          "name": "stdout"
        },
        {
          "output_type": "execute_result",
          "data": {
            "text/plain": [
              "<matplotlib.image.AxesImage at 0x7fddf9c0b630>"
            ]
          },
          "metadata": {
            "tags": []
          },
          "execution_count": 55
        },
        {
          "output_type": "display_data",
          "data": {
            "image/png": "[encoded data removed]",
            "text/plain": [
              "<Figure size 432x288 with 1 Axes>"
            ]
          },
          "metadata": {
            "tags": []
          }
        }
      ]
    },
    {
      "cell_type": "markdown",
      "metadata": {
        "id": "MmBoaEtQw1Pg",
        "colab_type": "text"
      },
      "source": [
        "```signals->stfts->magnitude_spectrograms->mel_spectrograms->log_mel_spectrograms->mfccs```"
      ]
    },
    {
      "cell_type": "code",
      "metadata": {
        "id": "Nlh19yBUw1Pk",
        "colab_type": "code",
        "colab": {}
      },
      "source": [
        "\n",
        "def get_mfccs(audio_file=None, signals=None, \n",
        "sample_rate = 44100, num_mfccs = 13, \n",
        "frame_length=1024, frame_step=512, \n",
        "fft_length=1024, fmax=8000, fmin=80):\n",
        "    \"\"\"Compute the MFCCs for audio file\n",
        "    \n",
        "    Keyword Arguments:\n",
        "        audio_file {str} -- audio wav file path (default: {None})\n",
        "        signals {tensor} -- input signals as tensor or np.array in float32 type (default: {None})\n",
        "        sample_rate {int} -- sampling rate (default: {44100})\n",
        "        num_mfccs {int} -- number of mfccs to keep (default: {13})\n",
        "        frame_length {int} -- frame length to compute STFT (default: {1024})\n",
        "        frame_step {int} -- frame step to compute STFT (default: {512})\n",
        "        fft_length {int} -- FFT length to compute STFT (default: {1024})\n",
        "        fmax {int} -- Top edge of the highest frequency band (default: {8000})\n",
        "        fmin {int} -- Lower bound on the frequencies to be included in the mel spectrum (default: {80})\n",
        "    \n",
        "    Returns:\n",
        "        Tensor -- mfccs as tf.Tensor\n",
        "    \"\"\"\n",
        "\n",
        "    \n",
        "    if signals is None and audio_file is not None:\n",
        "      audio_binary = tf.io.read_file(audio_file, name=None)\n",
        "      waveform = tf.audio.decode_wav(\n",
        "          audio_binary,\n",
        "          desired_channels=-1,\n",
        "          desired_samples=-1,\n",
        "          name=None)\n",
        "      \n",
        "      signals = tf.reshape(waveform.audio, [1, -1])\n",
        "\n",
        "\n",
        "    # Step 1 : signals->stfts\n",
        "    # `stfts` is a complex64 Tensor representing the Short-time Fourier Transform of\n",
        "    # each signal in `signals`. Its shape is [batch_size, ?, fft_unique_bins]\n",
        "    # where fft_unique_bins = fft_length // 2 + 1 = 513.\n",
        "    stfts = tf.signal.stft(signals, frame_length=frame_length, frame_step=frame_step,\n",
        "                                   fft_length=fft_length)\n",
        "    # Step2 : stfts->magnitude_spectrograms\n",
        "    # An energy spectrogram is the magnitude of the complex-valued STFT.\n",
        "    # A float32 Tensor of shape [batch_size, ?, 513].\n",
        "    magnitude_spectrograms = tf.math.abs(stfts)\n",
        "\n",
        "    # Step 3 : magnitude_spectrograms->mel_spectrograms\n",
        "    # Warp the linear-scale, magnitude spectrograms into the mel-scale.\n",
        "    num_spectrogram_bins = magnitude_spectrograms.shape[-1]\n",
        "\n",
        "    num_mel_bins = 64\n",
        "\n",
        "    linear_to_mel_weight_matrix = tf.signal.linear_to_mel_weight_matrix(\n",
        "        num_mel_bins, num_spectrogram_bins, sample_rate, fmin,\n",
        "        fmax)\n",
        "\n",
        "    mel_spectrograms = tf.tensordot(\n",
        "        magnitude_spectrograms, linear_to_mel_weight_matrix, 1)\n",
        "\n",
        "    # Step 4 : mel_spectrograms->log_mel_spectrograms\n",
        "    log_offset = 1e-6\n",
        "    log_mel_spectrograms = tf.math.log(mel_spectrograms + log_offset)\n",
        "\n",
        "    # Step 5 : log_mel_spectrograms->mfccs\n",
        "    # Keep the first `num_mfccs` MFCCs.\n",
        "    mfccs = tf.signal.mfccs_from_log_mel_spectrograms(\n",
        "        log_mel_spectrograms)[..., :num_mfccs]\n",
        "    \n",
        "    return mfccs"
      ],
      "execution_count": 0,
      "outputs": []
    },
    {
      "cell_type": "code",
      "metadata": {
        "id": "FZAln11Dw1Pz",
        "colab_type": "code",
        "outputId": "2ab2ebbe-80b4-45bd-b7f6-29336f31abb2",
        "colab": {
          "base_uri": "https://localhost:8080/",
          "height": 171
        }
      },
      "source": [
        "mfccs = get_mfccs(signals = signals, sample_rate=sr, num_mfccs = 30)\n",
        "\n",
        "print(\"mfccs shape\", mfccs.numpy().shape)\n",
        "array = mfccs.numpy()[0]\n",
        "plt.imshow(np.swapaxes(array,0,1)[::-1,:])"
      ],
      "execution_count": 58,
      "outputs": [
        {
          "output_type": "stream",
          "text": [
            "mfccs shape (1, 116, 30)\n"
          ],
          "name": "stdout"
        },
        {
          "output_type": "execute_result",
          "data": {
            "text/plain": [
              "<matplotlib.image.AxesImage at 0x7fddf9bb60b8>"
            ]
          },
          "metadata": {
            "tags": []
          },
          "execution_count": 58
        },
        {
          "output_type": "display_data",
          "data": {
            "image/png": "[encoded data removed]",
            "text/plain": [
              "<Figure size 432x288 with 1 Axes>"
            ]
          },
          "metadata": {
            "tags": []
          }
        }
      ]
    },
    {
      "cell_type": "code",
      "metadata": {
        "id": "oZa1wrnvqWS4",
        "colab_type": "code",
        "colab": {}
      },
      "source": [
        ""
      ],
      "execution_count": 0,
      "outputs": []
    }
  ]
}